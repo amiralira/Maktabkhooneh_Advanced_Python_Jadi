{
 "cells": [
  {
   "cell_type": "code",
   "execution_count": 1,
   "id": "initial_id",
   "metadata": {
    "collapsed": true
   },
   "source": [
    "import pandas as pd\n",
    "import numpy as np\n",
    "import matplotlib.pyplot as plt\n",
    "import seaborn as sns\n",
    "from sklearn.preprocessing import LabelEncoder\n",
    "\n",
    "from bama_class import Bama"
   ],
   "outputs": []
  },
  {
   "cell_type": "markdown",
   "id": "c52f3cb8",
   "metadata": {},
   "source": [
    "# Read Data from DataBase"
   ]
  },
  {
   "cell_type": "code",
   "execution_count": 2,
   "id": "dc36340b",
   "metadata": {},
   "source": [
    "# read data from database\n",
    "bama = Bama()\n",
    "data_df = bama.read_data_from_db()\n"
   ],
   "outputs": []
  },
  {
   "cell_type": "markdown",
   "id": "e955d380",
   "metadata": {},
   "source": [
    "# clean up the data"
   ]
  },
  {
   "cell_type": "markdown",
   "id": "fd77b6a5",
   "metadata": {},
   "source": [
    "## remove extra columns"
   ]
  },
  {
   "cell_type": "code",
   "execution_count": 3,
   "id": "b14cc2a8",
   "metadata": {},
   "source": [
    "# remove extra columns\n",
    "columns = ['detail.code', \n",
    "           'detail.title',\n",
    "           'detail.subtitle', \n",
    "           'detail.trim', \n",
    "           'detail.year',\n",
    "           'detail.mileage', \n",
    "           'detail.location', \n",
    "           'detail.specialcase',\n",
    "           'detail.transmission', \n",
    "           'detail.fuel', \n",
    "           'detail.color',\n",
    "           'detail.body_color', \n",
    "           'detail.inside_color', \n",
    "           'detail.body_status',\n",
    "           'detail.body_type',\n",
    "           'detail.body_type_fa', \n",
    "           'detail.cylinder_fa', \n",
    "           'specs.volume', \n",
    "           'specs.engine', \n",
    "           'specs.acceleration', \n",
    "           'specs.fuel',\n",
    "           'price.type',\n",
    "           'price.price']\n",
    "\n",
    "data_df = data_df[columns].copy()"
   ],
   "outputs": []
  },
  {
   "cell_type": "markdown",
   "id": "55b115f7",
   "metadata": {},
   "source": [
    "## get data info and remove rows with missing values"
   ]
  },
  {
   "cell_type": "code",
   "execution_count": 4,
   "id": "3af923b7",
   "metadata": {},
   "source": [
    "# get data info\n",
    "data_df.info()"
   ],
   "outputs": []
  },
  {
   "cell_type": "code",
   "execution_count": 5,
   "id": "ce2d102d",
   "metadata": {},
   "source": [
    "# remove columns with missing values\n",
    "data_df.drop(columns=['detail.specialcase'], inplace=True)\n",
    "data_df.dropna(inplace=True)\n"
   ],
   "outputs": []
  },
  {
   "cell_type": "markdown",
   "id": "09bbc80a",
   "metadata": {},
   "source": [
    "## delete columns with duplicate values"
   ]
  },
  {
   "cell_type": "code",
   "execution_count": 6,
   "id": "48afaaba",
   "metadata": {},
   "source": [
    "deleted_columns = ['detail.subtitle',\n",
    "                   'detail.color',\n",
    "                   'detail.body_type_fa',\n",
    "                   'detail.code'\n",
    "]\n",
    "\n",
    "data_df.drop(columns=deleted_columns, inplace=True)"
   ],
   "outputs": []
  },
  {
   "cell_type": "markdown",
   "id": "427bd434",
   "metadata": {},
   "source": [
    "## remove duplicate rows"
   ]
  },
  {
   "cell_type": "code",
   "execution_count": 7,
   "id": "6bc07140",
   "metadata": {},
   "source": [
    "# remove duplicate rows\n",
    "data_df.drop_duplicates(inplace=True)"
   ],
   "outputs": []
  },
  {
   "cell_type": "markdown",
   "id": "e9a649ae",
   "metadata": {},
   "source": [
    "## convert hijri date to gregorian date"
   ]
  },
  {
   "cell_type": "code",
   "execution_count": 8,
   "id": "4a2cc7b7",
   "metadata": {},
   "source": [
    "# change data types\n",
    "data_df['detail.year'] = data_df['detail.year'].astype(int)\n",
    "\n",
    "# convert hijri year to gregorian year\n",
    "hirji_year = data_df[data_df['detail.year'] < 1500]\n",
    "data_df.loc[hirji_year.index, 'detail.year'] = hirji_year['detail.year'] + (2024 - 1403)\n",
    "        "
   ],
   "outputs": []
  },
  {
   "cell_type": "markdown",
   "id": "4fc94a13",
   "metadata": {},
   "source": [
    "## convert detail.mileage to integer"
   ]
  },
  {
   "cell_type": "code",
   "execution_count": 9,
   "id": "af7661c1",
   "metadata": {},
   "source": [
    "# convert detail.mileage to integer\n",
    "data_df.loc[data_df['detail.mileage'].str.contains('صفر کیلومتر'), 'detail.mileage'] = '0'\n",
    "\n",
    "# remove 'km' from detail.mileage\n",
    "data_df['detail.mileage'] = data_df['detail.mileage'].str.replace('km', '').str.strip()\n",
    "# remove ',' from detail.mileage\n",
    "data_df['detail.mileage'] = data_df['detail.mileage'].str.replace(',', '').str.strip()\n",
    "# remove 'کارکرده' from detail.mileage\n",
    "data_df['detail.mileage'] = data_df['detail.mileage'].str.replace('کارکرده', '-1').str.strip()\n",
    "\n",
    "# convert detail.mileage to integer\n",
    "data_df['detail.mileage'] = data_df['detail.mileage'].astype(int)\n",
    "\n",
    "# change -1 to NaN\n",
    "data_df.loc[data_df['detail.mileage'] == -1, 'detail.mileage'] = np.nan\n",
    "\n",
    "# replace nan values with mean\n",
    "data_df.fillna({'detail.mileage': data_df['detail.mileage'].mean()}, inplace=True)"
   ],
   "outputs": []
  },
  {
   "cell_type": "markdown",
   "id": "63f31817",
   "metadata": {},
   "source": [
    "## convert detail.cylinder_fa to integer"
   ]
  },
  {
   "cell_type": "code",
   "execution_count": 10,
   "id": "8c793c72",
   "metadata": {},
   "source": [
    "# remove سیلندر from detail.cylinder_fa\n",
    "data_df['detail.cylinder_fa'] = data_df['detail.cylinder_fa'].str.replace('سیلندر', '').str.strip()\n",
    "\n",
    "# convert detail.cylinder_fa to integer\n",
    "data_df['detail.cylinder_fa'] = data_df['detail.cylinder_fa'].astype(int)"
   ],
   "outputs": []
  },
  {
   "cell_type": "markdown",
   "id": "f4010464",
   "metadata": {},
   "source": [
    "## convert specs.volume to float"
   ]
  },
  {
   "cell_type": "code",
   "execution_count": 11,
   "id": "a280ac55",
   "metadata": {},
   "source": [
    "# convert specs.volume to float\n",
    "# remove لیتر from specs.volume\n",
    "data_df['specs.volume'] = data_df['specs.volume'].str.replace('لیتر', '').str.strip()\n",
    "\n",
    "# convert specs.volume to float\n",
    "data_df['specs.volume'] = data_df['specs.volume'].astype(float)"
   ],
   "outputs": []
  },
  {
   "cell_type": "markdown",
   "id": "a6ad5cf5",
   "metadata": {},
   "source": [
    "## convert specs.acceleration to float"
   ]
  },
  {
   "cell_type": "code",
   "execution_count": 12,
   "id": "5f1142ce",
   "metadata": {},
   "source": [
    "# ## convert specs.acceleration to float\n",
    "# remove ثانیه from specs.acceleration\n",
    "data_df['specs.acceleration'] = data_df['specs.acceleration'].str.replace('ثانیه', '').str.strip()\n",
    "\n",
    "# replace '/' with '.' in specs.acceleration\n",
    "data_df['specs.acceleration'] = data_df['specs.acceleration'].str.replace('/', '.').str.strip()\n",
    "\n",
    "# convert specs.acceleration to float\n",
    "data_df['specs.acceleration'] = data_df['specs.acceleration'].astype(float)"
   ],
   "outputs": []
  },
  {
   "cell_type": "markdown",
   "id": "03a26057",
   "metadata": {},
   "source": [
    "## convert specs.fuel to float"
   ]
  },
  {
   "cell_type": "code",
   "execution_count": 13,
   "id": "c82aee07",
   "metadata": {},
   "source": [
    "## convert specs.fuel to float\n",
    "# remove لیتر در صد کیلومتر from specs.fuel\n",
    "data_df['specs.fuel'] = data_df['specs.fuel'].str.replace('لیتر در صد کیلومتر', '').str.strip()\n",
    "\n",
    "# convert specs.fuel to float\n",
    "data_df['specs.fuel'] = data_df['specs.fuel'].astype(float)"
   ],
   "outputs": []
  },
  {
   "cell_type": "markdown",
   "id": "b7a8e1bc",
   "metadata": {},
   "source": [
    "## remove price.type which is negotiable"
   ]
  },
  {
   "cell_type": "code",
   "execution_count": 14,
   "id": "47b01cb5",
   "metadata": {},
   "source": [
    "## remove price.type which is negotiable\n",
    "data_df = data_df[data_df['price.type'] != 'negotiable'].copy()\n",
    "data_df\n",
    "\n",
    "# remove , from price.price\n",
    "data_df['price.price'] = data_df['price.price'].str.replace(',', '').str.strip()\n",
    "\n",
    "# convert price.price to float\n",
    "data_df['price.price'] = data_df['price.price'].astype(float)"
   ],
   "outputs": []
  },
  {
   "cell_type": "markdown",
   "id": "1b955992",
   "metadata": {},
   "source": [
    "# remove extra columns and change data types"
   ]
  },
  {
   "cell_type": "code",
   "execution_count": 15,
   "id": "f9b0f03e",
   "metadata": {},
   "source": [
    "data_df.drop(columns=['price.type'], inplace=True)\n",
    "\n",
    "data_df = data_df.astype({'detail.title': 'str', \n",
    "                          'detail.trim': 'str',\n",
    "                          'detail.year': 'int',\n",
    "                          'detail.mileage': 'float',\n",
    "                          'detail.location': 'str',\n",
    "                          'detail.transmission': 'str',\n",
    "                          'detail.fuel': 'str',\n",
    "                          'detail.body_color': 'str',\n",
    "                          'detail.inside_color': 'str',\n",
    "                          'detail.body_status': 'str',\n",
    "                          'detail.body_type': 'str',\n",
    "                          'detail.cylinder_fa': 'int',\n",
    "                          'specs.volume': 'float',\n",
    "                          'specs.engine': 'str',\n",
    "                          'specs.acceleration': 'float',\n",
    "                          'specs.fuel': 'float',\n",
    "                          'price.price': 'float'\n",
    "                            })\n",
    "\n",
    "data_df.info()\n"
   ],
   "outputs": []
  },
  {
   "cell_type": "code",
   "execution_count": 16,
   "id": "6d2fa440",
   "metadata": {},
   "source": [
    "data_df"
   ],
   "outputs": []
  },
  {
   "cell_type": "markdown",
   "id": "01f581ca",
   "metadata": {},
   "source": [
    "# Data Preprocessing"
   ]
  },
  {
   "cell_type": "code",
   "execution_count": 17,
   "id": "f595b95b",
   "metadata": {},
   "source": [
    "# get list of string columns\n",
    "string_columns = data_df.select_dtypes(include='object').columns\n",
    "\n",
    "# convert string columns to category with sklearn\n",
    "\n",
    "label_encoder = LabelEncoder()\n",
    "\n",
    "for column in string_columns:\n",
    "    data_df[column] = label_encoder.fit_transform(data_df[column])\n",
    "\n",
    "data_df"
   ],
   "outputs": []
  },
  {
   "cell_type": "code",
   "execution_count": 18,
   "id": "20e3f701",
   "metadata": {},
   "source": [
    "data_df.describe()"
   ],
   "outputs": []
  },
  {
   "cell_type": "code",
   "execution_count": 19,
   "id": "c56290a2",
   "metadata": {},
   "source": [
    "# split data to train, validation and test\n",
    "from sklearn.model_selection import train_test_split\n",
    "\n",
    "train_df, test_df = train_test_split(data_df, test_size=0.2, random_state=42)\n",
    "train_df, valid_df = train_test_split(train_df, test_size=0.2, random_state=42)\n",
    "\n",
    "print(f'train_df: {train_df.shape}')\n",
    "print(f'valid_df: {valid_df.shape}')\n",
    "print(f'test_df: {test_df.shape}')"
   ],
   "outputs": []
  },
  {
   "cell_type": "code",
   "execution_count": 20,
   "id": "cfae0890",
   "metadata": {},
   "source": [
    "# set features and target\n",
    "features = train_df.drop(columns=['price.price'])\n",
    "target = train_df['price.price']\n",
    "\n",
    "valid_features = valid_df.drop(columns=['price.price'])\n",
    "valid_target = valid_df['price.price']\n",
    "\n",
    "test_features = test_df.drop(columns=['price.price'])\n",
    "test_target = test_df['price.price']\n"
   ],
   "outputs": []
  },
  {
   "cell_type": "markdown",
   "id": "b6f09442",
   "metadata": {},
   "source": [
    "# use random forest to predict the price"
   ]
  },
  {
   "cell_type": "code",
   "execution_count": 21,
   "id": "ede94437",
   "metadata": {},
   "source": [
    "# use random forest to predict price\n",
    "from sklearn.ensemble import RandomForestRegressor\n",
    "from sklearn.metrics import mean_squared_error\n",
    "\n",
    "# create model with validation data\n",
    "model = RandomForestRegressor(n_estimators=100, max_depth=10, random_state=42)\n",
    "\n",
    "model.fit(features, target)\n",
    "\n",
    "# predict validation data\n",
    "valid_predictions = model.predict(valid_features)\n",
    "\n",
    "# calculate mean squared error\n",
    "train_mse = mean_squared_error(target, model.predict(features))\n",
    "valid_mse = mean_squared_error(valid_target, valid_predictions)\n",
    "\n",
    "print(f'train mse: {train_mse}')\n",
    "print(f'valid mse: {valid_mse}')\n"
   ],
   "outputs": []
  },
  {
   "cell_type": "code",
   "execution_count": 22,
   "id": "cfdf5516",
   "metadata": {},
   "source": [
    "# predict test data\n",
    "test_predictions = model.predict(test_features)\n",
    "\n",
    "# calculate mean squared error\n",
    "test_mse = mean_squared_error(test_target, test_predictions)\n",
    "\n",
    "print(f'test mse: {test_mse}')"
   ],
   "outputs": []
  },
  {
   "cell_type": "code",
   "execution_count": 23,
   "id": "b079dd87",
   "metadata": {},
   "source": [
    "# plot predictions vs actual\n",
    "plt.figure(figsize=(10, 6))\n",
    "plt.scatter(test_target, test_predictions, alpha=0.6)\n",
    "\n",
    "plt.xlabel('Actual Price')\n",
    "plt.ylabel('Predicted Price')\n",
    "plt.title('Actual Price vs Predicted Price')\n",
    "\n",
    "# plot line\n",
    "x = np.linspace(0, 7*10**10, 100)\n",
    "y = x\n",
    "plt.plot(x, y, color='r')\n",
    "\n",
    "\n",
    "plt.show()\n"
   ],
   "outputs": []
  }
 ],
 "metadata": {
  "kernelspec": {
   "display_name": "Python 3",
   "language": "python",
   "name": "python3"
  },
  "language_info": {
   "codemirror_mode": {
    "name": "ipython",
    "version": 3
   },
   "file_extension": ".py",
   "mimetype": "text/x-python",
   "name": "python",
   "nbconvert_exporter": "python",
   "pygments_lexer": "ipython3",
   "version": "3.11.3"
  }
 },
 "nbformat": 4,
 "nbformat_minor": 5
}
